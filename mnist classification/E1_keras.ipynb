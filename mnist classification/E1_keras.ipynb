{
 "cells": [
  {
   "cell_type": "code",
   "execution_count": 2,
   "metadata": {},
   "outputs": [
    {
     "name": "stderr",
     "output_type": "stream",
     "text": [
      "Using TensorFlow backend.\n"
     ]
    }
   ],
   "source": [
    "%matplotlib inline\n",
    "\n",
    "import matplotlib.pyplot as plt\n",
    "import numpy as np\n",
    "import keras\n",
    "from keras.datasets import mnist\n",
    "from keras.utils import to_categorical\n",
    "from keras.models import Sequential\n",
    "from keras.layers import Dropout, Flatten, Dense\n",
    "from keras.layers import Activation, Conv2D, MaxPooling2D, AveragePooling2D\n",
    "from keras.optimizers import SGD\n",
    "from keras import backend as K"
   ]
  },
  {
   "cell_type": "code",
   "execution_count": 4,
   "metadata": {
    "collapsed": true
   },
   "outputs": [],
   "source": [
    "np.random.seed(42)"
   ]
  },
  {
   "cell_type": "code",
   "execution_count": 5,
   "metadata": {
    "collapsed": true
   },
   "outputs": [],
   "source": [
    "batch_size = 32\n",
    "num_classes = 10"
   ]
  },
  {
   "cell_type": "code",
   "execution_count": 6,
   "metadata": {
    "collapsed": true
   },
   "outputs": [],
   "source": [
    "# input image dimensions\n",
    "img_rows, img_cols = 28, 28"
   ]
  },
  {
   "cell_type": "code",
   "execution_count": 7,
   "metadata": {
    "collapsed": true
   },
   "outputs": [],
   "source": [
    "def load_mnist_data():\n",
    "    # the data, split between train and test sets\n",
    "    (x_train, y_train), (x_test, y_test) = mnist.load_data()\n",
    "    \n",
    "    if K.image_data_format() == 'channels_first':\n",
    "        x_train = x_train.reshape(x_train.shape[0], 1, img_rows, img_cols)\n",
    "        x_test = x_test.reshape(x_test.shape[0], 1, img_rows, img_cols)\n",
    "        input_shape = (1, img_rows, img_cols)\n",
    "    else:\n",
    "        x_train = x_train.reshape(x_train.shape[0], img_rows, img_cols, 1)\n",
    "        x_test = x_test.reshape(x_test.shape[0], img_rows, img_cols, 1)\n",
    "        input_shape = (img_rows, img_cols, 1)\n",
    "    \n",
    "    x_train = x_train.astype('float32')/255\n",
    "    x_test = x_test.astype('float32')/255\n",
    "    \n",
    "    print('x_train shape:', x_train.shape)\n",
    "    print(x_train.shape[0], 'train samples')\n",
    "    print(x_test.shape[0], 'test samples')\n",
    "    \n",
    "    # convert class vectors to binary class matrices\n",
    "    y_train = keras.utils.to_categorical(y_train, num_classes)\n",
    "    y_test = keras.utils.to_categorical(y_test, num_classes)\n",
    "    \n",
    "    return (x_train, y_train), (x_test, y_test)"
   ]
  },
  {
   "cell_type": "code",
   "execution_count": 8,
   "metadata": {
    "collapsed": true
   },
   "outputs": [],
   "source": [
    "def fit_score_mnist_data(feature_layers, classification_layers, epochs, loss, optimizer):\n",
    "    (x_train, y_train), (x_test, y_test) = load_mnist_data()\n",
    "\n",
    "    model = Sequential(feature_layers + classification_layers)\n",
    "\n",
    "    model.compile(\n",
    "    loss=loss, \n",
    "    optimizer=optimizer, \n",
    "    metrics=['accuracy'])\n",
    "\n",
    "    model.fit(\n",
    "    x_train, y_train,\n",
    "    epochs=epochs,\n",
    "    batch_size=batch_size,\n",
    "    verbose=1,\n",
    "    validation_data=(x_test, y_test))\n",
    "    \n",
    "    score = model.evaluate(x_test, y_test, verbose=0)\n",
    "    print('Test loss:', score[0])\n",
    "    print('Test accuracy:', score[1])\n",
    "    \n",
    "    return score, model"
   ]
  },
  {
   "cell_type": "markdown",
   "metadata": {},
   "source": [
    "# Original CNN"
   ]
  },
  {
   "cell_type": "code",
   "execution_count": 7,
   "metadata": {
    "collapsed": true
   },
   "outputs": [],
   "source": [
    "feature_layers = [\n",
    "    Conv2D(32, kernel_size=(3, 3), activation='relu', input_shape=(28, 28, 1)),\n",
    "    MaxPooling2D(pool_size=(2, 2)),\n",
    "    Flatten()\n",
    "]"
   ]
  },
  {
   "cell_type": "code",
   "execution_count": 8,
   "metadata": {
    "collapsed": true
   },
   "outputs": [],
   "source": [
    "classification_layers = [\n",
    "    Dense(num_classes, activation='softmax')\n",
    "]"
   ]
  },
  {
   "cell_type": "code",
   "execution_count": 9,
   "metadata": {
    "collapsed": true
   },
   "outputs": [],
   "source": [
    "score_original = []\n",
    "loss = keras.losses.categorical_crossentropy\n",
    "optimizer = keras.optimizers.Adadelta()"
   ]
  },
  {
   "cell_type": "code",
   "execution_count": 10,
   "metadata": {},
   "outputs": [
    {
     "name": "stdout",
     "output_type": "stream",
     "text": [
      "x_train shape: (60000, 28, 28, 1)\n",
      "60000 train samples\n",
      "10000 test samples\n",
      "Train on 60000 samples, validate on 10000 samples\n",
      "Epoch 1/1\n",
      "60000/60000 [==============================] - 11s 182us/step - loss: 0.2159 - acc: 0.9370 - val_loss: 0.0966 - val_acc: 0.9733\n",
      "Test loss: 0.096591734235\n",
      "Test accuracy: 0.9733\n"
     ]
    }
   ],
   "source": [
    "epochs = 1\n",
    "score = fit_score_mnist_data(feature_layers, classification_layers, epochs, loss, optimizer)\n",
    "score_original.append(score[0][1])"
   ]
  },
  {
   "cell_type": "markdown",
   "metadata": {},
   "source": [
    "# Improved CNN"
   ]
  },
  {
   "cell_type": "code",
   "execution_count": 11,
   "metadata": {
    "collapsed": true
   },
   "outputs": [],
   "source": [
    "feature_layers = [\n",
    "    Conv2D(32, kernel_size=(3, 3), activation='relu', input_shape=(28, 28, 1)), \n",
    "    Conv2D(64, (3, 3), activation='relu'),\n",
    "    MaxPooling2D(pool_size=(2, 2)),\n",
    "    Dropout(0.25),\n",
    "    MaxPooling2D(pool_size=(2,2)),\n",
    "    Dropout(.25),\n",
    "    Flatten()\n",
    "]"
   ]
  },
  {
   "cell_type": "code",
   "execution_count": 12,
   "metadata": {
    "collapsed": true
   },
   "outputs": [],
   "source": [
    "classification_layers = [\n",
    "    Dense(128, activation='relu'),\n",
    "    Dropout(0.5),\n",
    "    Dense(num_classes, activation='softmax')\n",
    "]"
   ]
  },
  {
   "cell_type": "code",
   "execution_count": 13,
   "metadata": {
    "collapsed": true
   },
   "outputs": [],
   "source": [
    "score_improved = []\n",
    "loss=keras.losses.categorical_crossentropy\n",
    "optimizer=keras.optimizers.Adadelta()"
   ]
  },
  {
   "cell_type": "code",
   "execution_count": 14,
   "metadata": {},
   "outputs": [
    {
     "name": "stdout",
     "output_type": "stream",
     "text": [
      "x_train shape: (60000, 28, 28, 1)\n",
      "60000 train samples\n",
      "10000 test samples\n",
      "Train on 60000 samples, validate on 10000 samples\n",
      "Epoch 1/1\n",
      "60000/60000 [==============================] - 100s 2ms/step - loss: 0.2136 - acc: 0.9352 - val_loss: 0.0510 - val_acc: 0.9836\n",
      "Test loss: 0.0510165721905\n",
      "Test accuracy: 0.9836\n"
     ]
    }
   ],
   "source": [
    "epochs = 1\n",
    "score = fit_score_mnist_data(feature_layers, classification_layers, epochs, loss, optimizer)\n",
    "score_improved.append(score[0][1])"
   ]
  },
  {
   "cell_type": "markdown",
   "metadata": {
    "collapsed": true
   },
   "source": [
    "# SGD"
   ]
  },
  {
   "cell_type": "code",
   "execution_count": 16,
   "metadata": {
    "collapsed": true
   },
   "outputs": [],
   "source": [
    "feature_layers = [\n",
    "    Conv2D(32, (3, 3), padding='same', input_shape=(28, 28, 1)),\n",
    "    Activation('relu'),\n",
    "    Conv2D(32, (3, 3), padding='same'),\n",
    "    Activation('relu'),\n",
    "    MaxPooling2D(pool_size=(2,2)),\n",
    "    Dropout(.25),\n",
    "    Flatten()\n",
    "]"
   ]
  },
  {
   "cell_type": "code",
   "execution_count": 17,
   "metadata": {
    "collapsed": true
   },
   "outputs": [],
   "source": [
    "classification_layers = [\n",
    "    Dense(128),\n",
    "    Activation('relu'),\n",
    "    Dropout(.50),\n",
    "    Dense(num_classes),\n",
    "    Activation('softmax')\n",
    "]"
   ]
  },
  {
   "cell_type": "code",
   "execution_count": 18,
   "metadata": {
    "collapsed": true
   },
   "outputs": [],
   "source": [
    "score_sgd = []\n",
    "loss=keras.losses.categorical_crossentropy\n",
    "optimizer=SGD(clipnorm=10000, clipvalue=10000)"
   ]
  },
  {
   "cell_type": "code",
   "execution_count": 19,
   "metadata": {},
   "outputs": [
    {
     "name": "stdout",
     "output_type": "stream",
     "text": [
      "x_train shape: (60000, 28, 28, 1)\n",
      "60000 train samples\n",
      "10000 test samples\n",
      "Train on 60000 samples, validate on 10000 samples\n",
      "Epoch 1/1\n",
      "60000/60000 [==============================] - 93s 2ms/step - loss: 0.6740 - acc: 0.7819 - val_loss: 0.2118 - val_acc: 0.9380\n",
      "Test loss: 0.211838701645\n",
      "Test accuracy: 0.938\n"
     ]
    }
   ],
   "source": [
    "epochs = 1\n",
    "score = fit_score_mnist_data(feature_layers, classification_layers, epochs, loss, optimizer)\n",
    "score_sgd.append(score[0][1])"
   ]
  },
  {
   "cell_type": "markdown",
   "metadata": {
    "collapsed": true
   },
   "source": [
    "# Sigmoid Activation & Average Pooling"
   ]
  },
  {
   "cell_type": "code",
   "execution_count": 9,
   "metadata": {
    "collapsed": true
   },
   "outputs": [],
   "source": [
    "feature_layers = [\n",
    "    Conv2D(32, (3, 3), padding='same', input_shape=(28, 28, 1)),\n",
    "    Activation('sigmoid'),\n",
    "    Conv2D(32, (3, 3), padding='same'),\n",
    "    Activation('sigmoid'),\n",
    "    AveragePooling2D(pool_size=(2,2)),\n",
    "    Dropout(.25),\n",
    "    Flatten()\n",
    "]"
   ]
  },
  {
   "cell_type": "code",
   "execution_count": 10,
   "metadata": {
    "collapsed": true
   },
   "outputs": [],
   "source": [
    "classification_layers = [\n",
    "    Dense(128),\n",
    "    Activation('sigmoid'),\n",
    "    Dropout(.50),\n",
    "    Dense(num_classes),\n",
    "    Activation('softmax')\n",
    "]"
   ]
  },
  {
   "cell_type": "code",
   "execution_count": 11,
   "metadata": {
    "collapsed": true
   },
   "outputs": [],
   "source": [
    "score_sigmoid = []\n",
    "loss=keras.losses.categorical_crossentropy\n",
    "optimizer=SGD(clipnorm=10000, clipvalue=10000, lr=0.1, momentum=0.9)"
   ]
  },
  {
   "cell_type": "code",
   "execution_count": 12,
   "metadata": {},
   "outputs": [
    {
     "name": "stdout",
     "output_type": "stream",
     "text": [
      "x_train shape: (60000, 28, 28, 1)\n",
      "60000 train samples\n",
      "10000 test samples\n",
      "Train on 60000 samples, validate on 10000 samples\n",
      "Epoch 1/30\n",
      "60000/60000 [==============================] - 85s 1ms/step - loss: 2.3561 - acc: 0.1016 - val_loss: 2.3036 - val_acc: 0.1032\n",
      "Epoch 2/30\n",
      "60000/60000 [==============================] - 85s 1ms/step - loss: 2.3084 - acc: 0.1035 - val_loss: 2.3246 - val_acc: 0.1135\n",
      "Epoch 3/30\n",
      "60000/60000 [==============================] - 75s 1ms/step - loss: 2.3088 - acc: 0.1038 - val_loss: 2.3075 - val_acc: 0.1135\n",
      "Epoch 4/30\n",
      "60000/60000 [==============================] - 84s 1ms/step - loss: 2.3079 - acc: 0.1052 - val_loss: 2.3048 - val_acc: 0.1028\n",
      "Epoch 5/30\n",
      "60000/60000 [==============================] - 87s 1ms/step - loss: 2.3082 - acc: 0.1035 - val_loss: 2.3074 - val_acc: 0.1009\n",
      "Epoch 6/30\n",
      "60000/60000 [==============================] - 87s 1ms/step - loss: 2.3083 - acc: 0.1045 - val_loss: 2.3068 - val_acc: 0.1135\n",
      "Epoch 7/30\n",
      "60000/60000 [==============================] - 82s 1ms/step - loss: 2.3085 - acc: 0.1031 - val_loss: 2.3131 - val_acc: 0.1135\n",
      "Epoch 8/30\n",
      "60000/60000 [==============================] - 93s 2ms/step - loss: 2.3078 - acc: 0.1038 - val_loss: 2.3077 - val_acc: 0.1135\n",
      "Epoch 9/30\n",
      "60000/60000 [==============================] - 85s 1ms/step - loss: 2.3083 - acc: 0.1045 - val_loss: 2.3132 - val_acc: 0.0980\n",
      "Epoch 10/30\n",
      "60000/60000 [==============================] - 84s 1ms/step - loss: 2.3081 - acc: 0.1059 - val_loss: 2.3048 - val_acc: 0.1028\n",
      "Epoch 11/30\n",
      "60000/60000 [==============================] - 85s 1ms/step - loss: 2.3078 - acc: 0.1035 - val_loss: 2.3146 - val_acc: 0.1010\n",
      "Epoch 12/30\n",
      "60000/60000 [==============================] - 84s 1ms/step - loss: 0.9616 - acc: 0.6601 - val_loss: 0.2774 - val_acc: 0.9096\n",
      "Epoch 13/30\n",
      "60000/60000 [==============================] - 85s 1ms/step - loss: 0.3836 - acc: 0.8803 - val_loss: 0.1535 - val_acc: 0.9531\n",
      "Epoch 14/30\n",
      "60000/60000 [==============================] - 85s 1ms/step - loss: 0.2889 - acc: 0.9108 - val_loss: 0.1282 - val_acc: 0.9627\n",
      "Epoch 15/30\n",
      "60000/60000 [==============================] - 86s 1ms/step - loss: 0.2356 - acc: 0.9279 - val_loss: 0.0964 - val_acc: 0.9707\n",
      "Epoch 16/30\n",
      "60000/60000 [==============================] - 84s 1ms/step - loss: 0.2025 - acc: 0.9376 - val_loss: 0.0795 - val_acc: 0.9747\n",
      "Epoch 17/30\n",
      "60000/60000 [==============================] - 86s 1ms/step - loss: 0.1810 - acc: 0.9440 - val_loss: 0.0772 - val_acc: 0.9769\n",
      "Epoch 18/30\n",
      "60000/60000 [==============================] - 85s 1ms/step - loss: 0.1659 - acc: 0.9482 - val_loss: 0.0688 - val_acc: 0.9793\n",
      "Epoch 19/30\n",
      "60000/60000 [==============================] - 828s 14ms/step - loss: 0.1528 - acc: 0.9532 - val_loss: 0.0646 - val_acc: 0.9803\n",
      "Epoch 20/30\n",
      "60000/60000 [==============================] - 82s 1ms/step - loss: 0.1352 - acc: 0.9582 - val_loss: 0.0587 - val_acc: 0.9819\n",
      "Epoch 21/30\n",
      "60000/60000 [==============================] - 87s 1ms/step - loss: 0.1278 - acc: 0.9605 - val_loss: 0.0560 - val_acc: 0.9837\n",
      "Epoch 22/30\n",
      "60000/60000 [==============================] - 86s 1ms/step - loss: 0.1157 - acc: 0.9641 - val_loss: 0.0507 - val_acc: 0.9848\n",
      "Epoch 23/30\n",
      "60000/60000 [==============================] - 86s 1ms/step - loss: 0.1064 - acc: 0.9665 - val_loss: 0.0505 - val_acc: 0.9859\n",
      "Epoch 24/30\n",
      "60000/60000 [==============================] - 84s 1ms/step - loss: 0.1021 - acc: 0.9672 - val_loss: 0.0488 - val_acc: 0.9855\n",
      "Epoch 25/30\n",
      "60000/60000 [==============================] - 87s 1ms/step - loss: 0.0986 - acc: 0.9691 - val_loss: 0.0466 - val_acc: 0.9857\n",
      "Epoch 26/30\n",
      "60000/60000 [==============================] - 87s 1ms/step - loss: 0.0922 - acc: 0.9710 - val_loss: 0.0513 - val_acc: 0.9845\n",
      "Epoch 27/30\n",
      "60000/60000 [==============================] - 87s 1ms/step - loss: 0.0883 - acc: 0.9722 - val_loss: 0.0446 - val_acc: 0.9866\n",
      "Epoch 28/30\n",
      "60000/60000 [==============================] - 87s 1ms/step - loss: 0.0878 - acc: 0.9734 - val_loss: 0.0418 - val_acc: 0.9872\n",
      "Epoch 29/30\n",
      "60000/60000 [==============================] - 81s 1ms/step - loss: 0.0807 - acc: 0.9745 - val_loss: 0.0422 - val_acc: 0.9869\n",
      "Epoch 30/30\n",
      "60000/60000 [==============================] - 86s 1ms/step - loss: 0.0764 - acc: 0.9759 - val_loss: 0.0382 - val_acc: 0.9880\n",
      "Test loss: 0.0382246035573\n",
      "Test accuracy: 0.988\n"
     ]
    }
   ],
   "source": [
    "epochs = 30\n",
    "score = fit_score_mnist_data(feature_layers, classification_layers, epochs, loss, optimizer)\n",
    "score_sigmoid.append(score[0][1])"
   ]
  },
  {
   "cell_type": "code",
   "execution_count": 4,
   "metadata": {},
   "outputs": [
    {
     "data": {
      "image/png": "[encoded data removed]",
      "text/plain": [
       "<matplotlib.figure.Figure at 0x123dad588>"
      ]
     },
     "metadata": {},
     "output_type": "display_data"
    }
   ],
   "source": [
    "plt.plot([0.1016, 0.1035, 0.1038, 0.1052, 0.1035, 0.1045, 0.1031, 0.1038, 0.1045, 0.1059, 0.1035, 0.6601, 0.8803, 0.9108, 0.9279, 0.9376, 0.9440, 0.9482, 0.9532, 0.9582, 0.9605, 0.9641, 0.9665, 0.9672, 0.9691, 0.9710, 0.9722, 0.9734, 0.9745, 0.9759, 0.988], 'ro')\n",
    "plt.ylabel('Accuracy')\n",
    "plt.xlabel('Epoch')\n",
    "plt.show()"
   ]
  },
  {
   "cell_type": "markdown",
   "metadata": {
    "collapsed": true
   },
   "source": [
    "# MSE Loss Function"
   ]
  },
  {
   "cell_type": "code",
   "execution_count": 13,
   "metadata": {
    "collapsed": true
   },
   "outputs": [],
   "source": [
    "feature_layers = [\n",
    "    Conv2D(32, (3, 3), padding='same', input_shape=(28, 28, 1)),\n",
    "    Activation('sigmoid'),\n",
    "    Conv2D(32, (3, 3), padding='same'),\n",
    "    Activation('sigmoid'),\n",
    "    AveragePooling2D(pool_size=(2,2)),\n",
    "    Dropout(.25),\n",
    "    Flatten()\n",
    "]"
   ]
  },
  {
   "cell_type": "code",
   "execution_count": 14,
   "metadata": {
    "collapsed": true
   },
   "outputs": [],
   "source": [
    "classification_layers = [\n",
    "    Dense(128),\n",
    "    Activation('sigmoid'),\n",
    "    Dropout(.50),\n",
    "    Dense(num_classes),\n",
    "    Activation('softmax')\n",
    "]"
   ]
  },
  {
   "cell_type": "code",
   "execution_count": 15,
   "metadata": {
    "collapsed": true
   },
   "outputs": [],
   "source": [
    "score_mse = []\n",
    "loss='mean_squared_error'\n",
    "optimizer=SGD(clipnorm=10000, clipvalue=10000, lr=0.1, momentum=0.9)"
   ]
  },
  {
   "cell_type": "code",
   "execution_count": 16,
   "metadata": {},
   "outputs": [
    {
     "name": "stdout",
     "output_type": "stream",
     "text": [
      "x_train shape: (60000, 28, 28, 1)\n",
      "60000 train samples\n",
      "10000 test samples\n",
      "Train on 60000 samples, validate on 10000 samples\n",
      "Epoch 1/30\n",
      "60000/60000 [==============================] - 84s 1ms/step - loss: 0.0901 - acc: 0.1068 - val_loss: 0.0900 - val_acc: 0.1135\n",
      "Epoch 2/30\n",
      "60000/60000 [==============================] - 85s 1ms/step - loss: 0.0900 - acc: 0.1120 - val_loss: 0.0900 - val_acc: 0.1135\n",
      "Epoch 3/30\n",
      "60000/60000 [==============================] - 84s 1ms/step - loss: 0.0900 - acc: 0.1124 - val_loss: 0.0900 - val_acc: 0.1135\n",
      "Epoch 4/30\n",
      "60000/60000 [==============================] - 84s 1ms/step - loss: 0.0900 - acc: 0.1117 - val_loss: 0.0900 - val_acc: 0.1135\n",
      "Epoch 5/30\n",
      "60000/60000 [==============================] - 84s 1ms/step - loss: 0.0900 - acc: 0.1124 - val_loss: 0.0900 - val_acc: 0.1135\n",
      "Epoch 6/30\n",
      "60000/60000 [==============================] - 82s 1ms/step - loss: 0.0900 - acc: 0.1124 - val_loss: 0.0900 - val_acc: 0.1135\n",
      "Epoch 7/30\n",
      "60000/60000 [==============================] - 84s 1ms/step - loss: 0.0900 - acc: 0.1123 - val_loss: 0.0900 - val_acc: 0.1135\n",
      "Epoch 8/30\n",
      "60000/60000 [==============================] - 85s 1ms/step - loss: 0.0900 - acc: 0.1122 - val_loss: 0.0900 - val_acc: 0.1135\n",
      "Epoch 9/30\n",
      "60000/60000 [==============================] - 85s 1ms/step - loss: 0.0900 - acc: 0.1124 - val_loss: 0.0900 - val_acc: 0.1135\n",
      "Epoch 10/30\n",
      "60000/60000 [==============================] - 84s 1ms/step - loss: 0.0900 - acc: 0.1124 - val_loss: 0.0900 - val_acc: 0.1135\n",
      "Epoch 11/30\n",
      "60000/60000 [==============================] - 85s 1ms/step - loss: 0.0900 - acc: 0.1124 - val_loss: 0.0900 - val_acc: 0.1135\n",
      "Epoch 12/30\n",
      "60000/60000 [==============================] - 85s 1ms/step - loss: 0.0900 - acc: 0.1124 - val_loss: 0.0900 - val_acc: 0.1135\n",
      "Epoch 13/30\n",
      "60000/60000 [==============================] - 85s 1ms/step - loss: 0.0900 - acc: 0.1124 - val_loss: 0.0900 - val_acc: 0.1135\n",
      "Epoch 14/30\n",
      "60000/60000 [==============================] - 85s 1ms/step - loss: 0.0900 - acc: 0.1124 - val_loss: 0.0900 - val_acc: 0.1135\n",
      "Epoch 15/30\n",
      "60000/60000 [==============================] - 85s 1ms/step - loss: 0.0900 - acc: 0.1124 - val_loss: 0.0900 - val_acc: 0.1135\n",
      "Epoch 16/30\n",
      "60000/60000 [==============================] - 86s 1ms/step - loss: 0.0900 - acc: 0.1124 - val_loss: 0.0900 - val_acc: 0.1135\n",
      "Epoch 17/30\n",
      "60000/60000 [==============================] - 85s 1ms/step - loss: 0.0900 - acc: 0.1121 - val_loss: 0.0900 - val_acc: 0.1135\n",
      "Epoch 18/30\n",
      "60000/60000 [==============================] - 86s 1ms/step - loss: 0.0900 - acc: 0.1123 - val_loss: 0.0900 - val_acc: 0.1135\n",
      "Epoch 19/30\n",
      "60000/60000 [==============================] - 86s 1ms/step - loss: 0.0900 - acc: 0.1124 - val_loss: 0.0900 - val_acc: 0.1135\n",
      "Epoch 20/30\n",
      "60000/60000 [==============================] - 86s 1ms/step - loss: 0.0900 - acc: 0.1123 - val_loss: 0.0900 - val_acc: 0.1135\n",
      "Epoch 21/30\n",
      "60000/60000 [==============================] - 86s 1ms/step - loss: 0.0900 - acc: 0.1124 - val_loss: 0.0900 - val_acc: 0.1135\n",
      "Epoch 22/30\n",
      "60000/60000 [==============================] - 90s 1ms/step - loss: 0.0900 - acc: 0.1123 - val_loss: 0.0900 - val_acc: 0.1135\n",
      "Epoch 23/30\n",
      "60000/60000 [==============================] - 89s 1ms/step - loss: 0.0900 - acc: 0.1123 - val_loss: 0.0900 - val_acc: 0.1135\n",
      "Epoch 24/30\n",
      "60000/60000 [==============================] - 88s 1ms/step - loss: 0.0900 - acc: 0.1124 - val_loss: 0.0900 - val_acc: 0.1135\n",
      "Epoch 25/30\n",
      "60000/60000 [==============================] - 92s 2ms/step - loss: 0.0900 - acc: 0.1123 - val_loss: 0.0900 - val_acc: 0.1135\n",
      "Epoch 26/30\n",
      "60000/60000 [==============================] - 87s 1ms/step - loss: 0.0900 - acc: 0.1123 - val_loss: 0.0900 - val_acc: 0.1135\n",
      "Epoch 27/30\n",
      "60000/60000 [==============================] - 88s 1ms/step - loss: 0.0900 - acc: 0.1123 - val_loss: 0.0900 - val_acc: 0.1135\n",
      "Epoch 28/30\n",
      "60000/60000 [==============================] - 88s 1ms/step - loss: 0.0900 - acc: 0.1123 - val_loss: 0.0900 - val_acc: 0.1135\n",
      "Epoch 29/30\n",
      "60000/60000 [==============================] - 89s 1ms/step - loss: 0.0900 - acc: 0.1122 - val_loss: 0.0900 - val_acc: 0.1135\n",
      "Epoch 30/30\n",
      "60000/60000 [==============================] - 87s 1ms/step - loss: 0.0900 - acc: 0.1123 - val_loss: 0.0900 - val_acc: 0.1135\n",
      "Test loss: 0.0899600203276\n",
      "Test accuracy: 0.1135\n"
     ]
    }
   ],
   "source": [
    "epochs = 30\n",
    "score = fit_score_mnist_data(feature_layers, classification_layers, epochs, loss, optimizer)\n",
    "score_mse.append(score[0][1])"
   ]
  },
  {
   "cell_type": "code",
   "execution_count": 5,
   "metadata": {},
   "outputs": [
    {
     "data": {
      "image/png": "[encoded data removed]",
      "text/plain": [
       "<matplotlib.figure.Figure at 0x1271ae668>"
      ]
     },
     "metadata": {},
     "output_type": "display_data"
    }
   ],
   "source": [
    "plt.plot([0.1116, 0.1123, 0.1122, 0.1123, 0.1124, 0.1123, 0.1123, 0.1122, 0.1122, 0.1123, 0.1124, 0.1123, 0.1123, 0.1124, 0.1122, 0.1122, 0.1123, 0.1125, 0.1120, 0.1145, 0.1340, 0.6515, 0.8678, 0.8918, 0.9050, 0.9351], 'ro')\n",
    "plt.ylabel('Accuracy')\n",
    "plt.xlabel('Epoch')\n",
    "plt.show()"
   ]
  },
  {
   "cell_type": "code",
   "execution_count": null,
   "metadata": {
    "collapsed": true
   },
   "outputs": [],
   "source": []
  }
 ],
 "metadata": {
  "kernelspec": {
   "display_name": "Python 3",
   "language": "python",
   "name": "python3"
  },
  "language_info": {
   "codemirror_mode": {
    "name": "ipython",
    "version": 3
   },
   "file_extension": ".py",
   "mimetype": "text/x-python",
   "name": "python",
   "nbconvert_exporter": "python",
   "pygments_lexer": "ipython3",
   "version": "3.6.3"
  }
 },
 "nbformat": 4,
 "nbformat_minor": 2
}
