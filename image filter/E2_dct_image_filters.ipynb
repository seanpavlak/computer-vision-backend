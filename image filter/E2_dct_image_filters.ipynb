{
 "cells": [
  {
   "cell_type": "code",
   "execution_count": 1,
   "metadata": {
    "collapsed": true
   },
   "outputs": [],
   "source": [
    "from PIL import Image\n",
    "import numpy as np\n",
    "import scipy.fftpack as fftpack\n",
    "import imageio\n",
    "from glob import glob\n",
    "from ipywidgets import Image as Img\n",
    "from IPython import display"
   ]
  },
  {
   "cell_type": "code",
   "execution_count": 2,
   "metadata": {
    "collapsed": true
   },
   "outputs": [],
   "source": [
    "def show_gif(filename):\n",
    "    file = open(filename , \"rb\")\n",
    "    image = file.read()\n",
    "    progress= Img(\n",
    "        value=image,\n",
    "        format='gif',\n",
    "        width=400,\n",
    "        height=400)\n",
    "    display.display(progress)\n",
    "    \n",
    "    return progress"
   ]
  },
  {
   "cell_type": "code",
   "execution_count": 3,
   "metadata": {
    "collapsed": true
   },
   "outputs": [],
   "source": [
    "def create_gif(filename, path):\n",
    "    with imageio.get_writer(filename, mode='I') as writer:\n",
    "        glob_path = path + '/*.png'\n",
    "        for filename in sorted(glob(glob_path)):\n",
    "            image = imageio.imread(filename)\n",
    "            writer.append_data(image)"
   ]
  },
  {
   "cell_type": "code",
   "execution_count": 4,
   "metadata": {
    "collapsed": true
   },
   "outputs": [],
   "source": [
    "image = Image.open('E2_image.png')\n",
    "image = image.resize((256,256), 1)\n",
    "image = image.convert('L')"
   ]
  },
  {
   "cell_type": "code",
   "execution_count": 5,
   "metadata": {
    "collapsed": true
   },
   "outputs": [],
   "source": [
    "dctSize = image.size[0]"
   ]
  },
  {
   "cell_type": "code",
   "execution_count": 6,
   "metadata": {
    "collapsed": true
   },
   "outputs": [],
   "source": [
    "# get raw pixel values:\n",
    "pixels = np.array(image.getdata(), dtype=np.float).reshape((dctSize, dctSize))"
   ]
  },
  {
   "cell_type": "code",
   "execution_count": 7,
   "metadata": {
    "collapsed": true
   },
   "outputs": [],
   "source": [
    "# perform 2-dimensional DCT (discrete cosine transform):\n",
    "dct = fftpack.dct(fftpack.dct(pixels.T, norm='ortho').T, norm='ortho')"
   ]
  },
  {
   "cell_type": "code",
   "execution_count": 8,
   "metadata": {
    "collapsed": true
   },
   "outputs": [],
   "source": [
    "for i in range(0, dctSize):\n",
    "    dct2 = dct.copy()\n",
    "\n",
    "    # zero out part of the higher frequencies of the DCT values:\n",
    "    dct2[i:,:] = 0\n",
    "    dct2[:,i:] = 0\n",
    "\n",
    "    # perform 2d inverse DCT to get pixels back:\n",
    "    idct = fftpack.idct(fftpack.idct(dct2.T, norm='ortho').T, norm='ortho')\n",
    "\n",
    "    # clip/convert pixel values obtained by IDCT, and create image:\n",
    "    idct = idct.clip(0, 255)\n",
    "    idct = idct.astype('uint8')\n",
    "    img = Image.fromarray(idct)\n",
    "\n",
    "    img.save('E2_lowpass_filter_images/img_%04d.png' % i)"
   ]
  },
  {
   "cell_type": "code",
   "execution_count": 9,
   "metadata": {
    "collapsed": true
   },
   "outputs": [],
   "source": [
    "for i in range(0, dctSize):\n",
    "    dct2 = dct.copy()\n",
    "\n",
    "    # zero out part of the lower frequencies of the DCT values:\n",
    "    dct2[:i,:] = 0\n",
    "    dct2[:,:i] = 0\n",
    "\n",
    "    # perform 2d inverse DCT to get pixels back:\n",
    "    idct = fftpack.idct(fftpack.idct(dct2.T, norm='ortho').T, norm='ortho')\n",
    "\n",
    "    # clip/convert pixel values obtained by IDCT, and create image:\n",
    "    idct = idct.clip(0, 255)\n",
    "    idct = idct.astype(\"uint8\")\n",
    "    img = Image.fromarray(idct)\n",
    "\n",
    "    img.save(\"E2_highpass_filter_images/img_%04d.png\" % i)"
   ]
  },
  {
   "cell_type": "code",
   "execution_count": 10,
   "metadata": {
    "collapsed": true
   },
   "outputs": [],
   "source": [
    "create_gif('E2_lowpass_filter.gif', './E2_lowpass_filter_images')\n",
    "create_gif('E2_highpass_filter.gif', './E2_highpass_filter_images')"
   ]
  },
  {
   "cell_type": "code",
   "execution_count": 11,
   "metadata": {},
   "outputs": [
    {
     "data": {
      "application/vnd.jupyter.widget-view+json": {
       "model_id": "2fa598716b384a42b7e64b904a83abc6",
       "version_major": 2,
       "version_minor": 0
      },
      "text/plain": [
       "A Jupyter Widget"
      ]
     },
     "metadata": {},
     "output_type": "display_data"
    }
   ],
   "source": [
    "lowpass_gif = show_gif('E2_lowpass_filter.gif')"
   ]
  },
  {
   "cell_type": "code",
   "execution_count": 12,
   "metadata": {
    "collapsed": true
   },
   "outputs": [],
   "source": [
    "lowpass_gif.close()"
   ]
  },
  {
   "cell_type": "code",
   "execution_count": 13,
   "metadata": {},
   "outputs": [
    {
     "data": {
      "application/vnd.jupyter.widget-view+json": {
       "model_id": "ea50560690de4b03b7a0c85233c143b9",
       "version_major": 2,
       "version_minor": 0
      },
      "text/plain": [
       "A Jupyter Widget"
      ]
     },
     "metadata": {},
     "output_type": "display_data"
    }
   ],
   "source": [
    "highpass_gif = show_gif('E2_highpass_filter.gif')"
   ]
  },
  {
   "cell_type": "code",
   "execution_count": 14,
   "metadata": {
    "collapsed": true
   },
   "outputs": [],
   "source": [
    "highpass_gif.close()"
   ]
  },
  {
   "cell_type": "code",
   "execution_count": null,
   "metadata": {
    "collapsed": true
   },
   "outputs": [],
   "source": []
  }
 ],
 "metadata": {
  "kernelspec": {
   "display_name": "Python 3",
   "language": "python",
   "name": "python3"
  },
  "language_info": {
   "codemirror_mode": {
    "name": "ipython",
    "version": 3
   },
   "file_extension": ".py",
   "mimetype": "text/x-python",
   "name": "python",
   "nbconvert_exporter": "python",
   "pygments_lexer": "ipython3",
   "version": "3.6.3"
  }
 },
 "nbformat": 4,
 "nbformat_minor": 2
}
